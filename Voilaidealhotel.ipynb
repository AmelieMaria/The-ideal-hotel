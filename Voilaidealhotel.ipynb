{
 "cells": [
  {
   "cell_type": "code",
   "execution_count": 1,
   "id": "cb2ff5f3",
   "metadata": {},
   "outputs": [],
   "source": [
    "import requests\n",
    "from bs4 import BeautifulSoup\n",
    "import pandas as pd\n",
    "import numpy as np\n",
    "\n",
    "from fpdf import FPDF\n",
    "from contextlib import redirect_stdout\n",
    "from reportlab.pdfgen.canvas import Canvas\n",
    "import os\n",
    "\n",
    "import matplotlib.pyplot as plt\n",
    "import matplotlib.image as mpimg\n",
    "\n",
    "\n",
    "import warnings\n",
    "warnings.filterwarnings('ignore')\n",
    "from colorama import Fore, Back, Style\n",
    "\n",
    "import time\n",
    "import ipywidgets as widgets\n",
    "from IPython.display import display, clear_output"
   ]
  },
  {
   "cell_type": "code",
   "execution_count": 2,
   "id": "6758b5f6",
   "metadata": {},
   "outputs": [],
   "source": [
    "file = open(\"idealhotellogo.png\", \"rb\")\n",
    "image = file.read()\n",
    "\n",
    "image_headline = widgets.Image(\n",
    "                    value=image,\n",
    "                    format='jpg',\n",
    "                    width='300'\n",
    "                )\n",
    "\n",
    "label_headline = widgets.Label(\n",
    "                    value='',\n",
    "                    style={'description_width': 'initial'}\n",
    "                )\n",
    "\n",
    "vbox_headline = widgets.VBox([image_headline, label_headline])"
   ]
  },
  {
   "cell_type": "code",
   "execution_count": 3,
   "id": "8ded7afc",
   "metadata": {},
   "outputs": [
    {
     "data": {
      "application/vnd.jupyter.widget-view+json": {
       "model_id": "08504ef95022431ca5e23fd0c8dff3b6",
       "version_major": 2,
       "version_minor": 0
      },
      "text/plain": [
       "Text(value='', placeholder='Where do you want to go?')"
      ]
     },
     "metadata": {},
     "output_type": "display_data"
    }
   ],
   "source": [
    "location = widgets.Text(placeholder='Where do you want to go?')\n",
    "location"
   ]
  },
  {
   "cell_type": "code",
   "execution_count": 4,
   "id": "70ae8c1f",
   "metadata": {},
   "outputs": [
    {
     "data": {
      "application/vnd.jupyter.widget-view+json": {
       "model_id": "22296230eafb4786a5a3afb47881990f",
       "version_major": 2,
       "version_minor": 0
      },
      "text/plain": [
       "DatePicker(value=None, description='Check-in')"
      ]
     },
     "metadata": {},
     "output_type": "display_data"
    }
   ],
   "source": [
    "check_in = widgets.DatePicker(description='Check-in')\n",
    "check_in"
   ]
  },
  {
   "cell_type": "code",
   "execution_count": 5,
   "id": "8c355ec7",
   "metadata": {},
   "outputs": [
    {
     "data": {
      "application/vnd.jupyter.widget-view+json": {
       "model_id": "b7a5781a84124e6289ac3540bc62d82c",
       "version_major": 2,
       "version_minor": 0
      },
      "text/plain": [
       "DatePicker(value=None, description='Check-out')"
      ]
     },
     "metadata": {},
     "output_type": "display_data"
    }
   ],
   "source": [
    "check_out = widgets.DatePicker(description='Check-out')\n",
    "check_out"
   ]
  },
  {
   "cell_type": "code",
   "execution_count": 6,
   "id": "405d467b",
   "metadata": {},
   "outputs": [
    {
     "data": {
      "application/vnd.jupyter.widget-view+json": {
       "model_id": "d969201f29f04131bfdd4d40206882c5",
       "version_major": 2,
       "version_minor": 0
      },
      "text/plain": [
       "Dropdown(description='Adults:', options=('1', '2', '3', '4', '5', '6', '7', '8', '9', '10'), value='1')"
      ]
     },
     "metadata": {},
     "output_type": "display_data"
    }
   ],
   "source": [
    "adults = widgets.Dropdown(options=['1', '2', '3', \"4\", \"5\", \"6\", \"7\", \"8\", \"9\", \"10\"], value='1', description='Adults:',disabled=False)\n",
    "adults"
   ]
  },
  {
   "cell_type": "code",
   "execution_count": 7,
   "id": "d668490a",
   "metadata": {},
   "outputs": [
    {
     "data": {
      "application/vnd.jupyter.widget-view+json": {
       "model_id": "9cc90d11561b4825b05089944b94b4fc",
       "version_major": 2,
       "version_minor": 0
      },
      "text/plain": [
       "Dropdown(description='Children:', options=('0', '1', '2', '3', '4', '5', '6', '7', '8', '9', '10'), value='0')"
      ]
     },
     "metadata": {},
     "output_type": "display_data"
    }
   ],
   "source": [
    "children = widgets.Dropdown(options=[\"0\",'1', '2', '3', \"4\", \"5\", \"6\", \"7\", \"8\", \"9\", \"10\"], value='0', description='Children:',disabled=False)\n",
    "children"
   ]
  },
  {
   "cell_type": "code",
   "execution_count": 8,
   "id": "a517120a",
   "metadata": {},
   "outputs": [
    {
     "data": {
      "application/vnd.jupyter.widget-view+json": {
       "model_id": "2bed46a233d7457f98f3f81c83ef432a",
       "version_major": 2,
       "version_minor": 0
      },
      "text/plain": [
       "IntRangeSlider(value=(99, 129), continuous_update=False, description='Price range:', max=210, min=99, step=10)"
      ]
     },
     "metadata": {},
     "output_type": "display_data"
    }
   ],
   "source": [
    "price_range = widgets.IntRangeSlider(value=[99, 129], min=99, max=210, step=10, description='Price range:',\n",
    "    disabled=False,\n",
    "    continuous_update=False,\n",
    "    orientation='horizontal',\n",
    "    readout=True,\n",
    "    readout_format='d')\n",
    "price_range"
   ]
  },
  {
   "cell_type": "code",
   "execution_count": 9,
   "id": "b52f0425",
   "metadata": {},
   "outputs": [
    {
     "data": {
      "application/vnd.jupyter.widget-view+json": {
       "model_id": "030e26b3df36421c9a6756757edb77ba",
       "version_major": 2,
       "version_minor": 0
      },
      "text/plain": [
       "Checkbox(value=False, description='Airport shuttle', indent=False)"
      ]
     },
     "metadata": {},
     "output_type": "display_data"
    }
   ],
   "source": [
    "airport_shuttle =widgets.Checkbox(\n",
    "    value=False,\n",
    "    description='Airport shuttle',\n",
    "    disabled=False,\n",
    "    indent=False)\n",
    "\n",
    "airport_shuttle"
   ]
  },
  {
   "cell_type": "code",
   "execution_count": 10,
   "id": "efab065c",
   "metadata": {},
   "outputs": [
    {
     "data": {
      "application/vnd.jupyter.widget-view+json": {
       "model_id": "f452cbe63e8543eb927540907a8a1a27",
       "version_major": 2,
       "version_minor": 0
      },
      "text/plain": [
       "Checkbox(value=False, description='Breakfast', indent=False)"
      ]
     },
     "metadata": {},
     "output_type": "display_data"
    }
   ],
   "source": [
    "breakfast =widgets.Checkbox(\n",
    "    value=False,\n",
    "    description='Breakfast',\n",
    "    disabled=False,\n",
    "    indent=False)\n",
    "\n",
    "breakfast"
   ]
  },
  {
   "cell_type": "code",
   "execution_count": 11,
   "id": "c35b3bfc",
   "metadata": {},
   "outputs": [
    {
     "data": {
      "application/vnd.jupyter.widget-view+json": {
       "model_id": "e0bceedc5114407895926e96e5a7b78c",
       "version_major": 2,
       "version_minor": 0
      },
      "text/plain": [
       "Checkbox(value=False, description='Request different check-in/ out time', indent=False)"
      ]
     },
     "metadata": {},
     "output_type": "display_data"
    }
   ],
   "source": [
    "Checkinout =widgets.Checkbox(\n",
    "    value=False,\n",
    "    description='Request different check-in/ out time',\n",
    "    disabled=False,\n",
    "    indent=False)\n",
    "\n",
    "Checkinout"
   ]
  },
  {
   "cell_type": "code",
   "execution_count": 12,
   "id": "b62e0039",
   "metadata": {},
   "outputs": [
    {
     "data": {
      "application/vnd.jupyter.widget-view+json": {
       "model_id": "4537f9b98f304e339ead3c108f28110b",
       "version_major": 2,
       "version_minor": 0
      },
      "text/plain": [
       "Checkbox(value=False, description='I am traveling with special restrictions', indent=False)"
      ]
     },
     "metadata": {},
     "output_type": "display_data"
    }
   ],
   "source": [
    "restrictions =widgets.Checkbox(\n",
    "    value=False,\n",
    "    description='I am traveling with special restrictions',\n",
    "    disabled=False,\n",
    "    indent=False)\n",
    "restrictions"
   ]
  },
  {
   "cell_type": "code",
   "execution_count": 13,
   "id": "179ca25a",
   "metadata": {},
   "outputs": [
    {
     "data": {
      "application/vnd.jupyter.widget-view+json": {
       "model_id": "cb57e29c89d04107b5221a214fb70989",
       "version_major": 2,
       "version_minor": 0
      },
      "text/plain": [
       "Checkbox(value=False, description='I am interested in trips', indent=False)"
      ]
     },
     "metadata": {},
     "output_type": "display_data"
    }
   ],
   "source": [
    "trips =widgets.Checkbox(\n",
    "    value=False,\n",
    "    description='I am interested in trips',\n",
    "    disabled=False,\n",
    "    indent=False)\n",
    "\n",
    "trips"
   ]
  },
  {
   "cell_type": "code",
   "execution_count": 14,
   "id": "d8d1ac36",
   "metadata": {},
   "outputs": [
    {
     "data": {
      "application/vnd.jupyter.widget-view+json": {
       "model_id": "5a16b320431e4bad890a05a5af8d815e",
       "version_major": 2,
       "version_minor": 0
      },
      "text/plain": [
       "Button(description='Search', style=ButtonStyle(), tooltip='Send')"
      ]
     },
     "metadata": {},
     "output_type": "display_data"
    }
   ],
   "source": [
    "find_my_room = widgets.Button(\n",
    "                description='Search',\n",
    "                tooltip='Send',\n",
    "                style={'description_width': 'initial'})\n",
    "find_my_room"
   ]
  },
  {
   "cell_type": "code",
   "execution_count": 15,
   "id": "e16891ba",
   "metadata": {},
   "outputs": [],
   "source": [
    "output = widgets.Output()\n",
    "\n",
    "def on_button_clicked(event):\n",
    "    with output:\n",
    "        clear_output()\n",
    "        print(Fore.GREEN+ f\"Searching for a room in: {location.value} only 2km from the city center!\")\n",
    "        time.sleep(2)\n",
    "        print(f\" \")\n",
    "        print(f\"We will pick you up from the airport on {check_in.value} \")\n",
    "        time.sleep(2)\n",
    "        print(f\"We will drop you on the airport on {check_out.value}\")\n",
    "        print(f\" \")\n",
    "        time.sleep(2)\n",
    "        print(f\"A local breakfast will wait for you every morning.\")\n",
    "        time.sleep(2)\n",
    "        print(f\"We will place some trip discounts and recommendations with local companies in your room.\")\n",
    "        print(f\" \")\n",
    "        time.sleep(2)\n",
    "        print(f\"See you soon!\")\n",
    "        plt.imshow(mpimg.imread('Lisbon.jpeg'))\n",
    "\n",
    "        \n",
    "\n",
    "\n",
    "\n",
    "find_my_room.on_click(on_button_clicked)\n",
    "\n",
    "vbox_result = widgets.VBox([find_my_room, output])"
   ]
  },
  {
   "cell_type": "code",
   "execution_count": 16,
   "id": "3b5e1a95",
   "metadata": {},
   "outputs": [],
   "source": [
    "text_1 = widgets.HTML(value=\"<h1>Welcome!</h1>\")\n",
    "text_2= widgets.HTML(value=\"<b>We are glad to welcome you at the ideal hotel</b>\")\n",
    "text_4= widgets.HTML(value=\"<b>How many people will stay in the room?</b>\")\n",
    "text_5= widgets.HTML(value=\"<b>What is your price range for one room?</b>\")\n",
    "text_6= widgets.HTML(value=\"<b>We will find your perfect room class based on your price range.</b>\")\n",
    "text_7= widgets.HTML(value=\"<b>Do you recquire any of the following additional services?</b>\")\n",
    "\n",
    "\n",
    "\n",
    "vbox_text = widgets.VBox([text_1, text_2, location, check_in, check_out, text_4, adults, children, text_5, price_range, text_6, text_7, airport_shuttle, breakfast, Checkinout, restrictions, trips,  vbox_result])"
   ]
  },
  {
   "cell_type": "code",
   "execution_count": 17,
   "id": "d09a9126",
   "metadata": {},
   "outputs": [
    {
     "data": {
      "application/vnd.jupyter.widget-view+json": {
       "model_id": "8ef489e7ce604a4c9798f1599bab4d00",
       "version_major": 2,
       "version_minor": 0
      },
      "text/plain": [
       "HBox(children=(VBox(children=(HTML(value='<h1>Welcome!</h1>'), HTML(value='<b>We are glad to welcome you at th…"
      ]
     },
     "metadata": {},
     "output_type": "display_data"
    }
   ],
   "source": [
    "page = widgets.HBox([vbox_text, vbox_headline])\n",
    "#page_2 = widgets.HBox([vbox_text])\n",
    "#display(page, page_2)\n",
    "display(page)\n",
    "# html in center \n",
    "# additional services: service papers lay then in the room already "
   ]
  },
  {
   "cell_type": "code",
   "execution_count": null,
   "id": "c455d247",
   "metadata": {},
   "outputs": [],
   "source": []
  }
 ],
 "metadata": {
  "kernelspec": {
   "display_name": "Python 3 (ipykernel)",
   "language": "python",
   "name": "python3"
  },
  "language_info": {
   "codemirror_mode": {
    "name": "ipython",
    "version": 3
   },
   "file_extension": ".py",
   "mimetype": "text/x-python",
   "name": "python",
   "nbconvert_exporter": "python",
   "pygments_lexer": "ipython3",
   "version": "3.9.12"
  }
 },
 "nbformat": 4,
 "nbformat_minor": 5
}
